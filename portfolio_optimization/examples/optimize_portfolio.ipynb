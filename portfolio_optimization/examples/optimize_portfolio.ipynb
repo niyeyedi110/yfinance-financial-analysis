{
 "cells": [
  {
   "cell_type": "markdown",
   "metadata": {},
   "source": [
    "# Portfolio Optimization with Tech Stocks\n",
    "\n",
    "This notebook demonstrates portfolio optimization techniques using Modern Portfolio Theory (MPT) to find the optimal allocation of tech stocks.\n",
    "\n",
    "## Overview\n",
    "\n",
    "We'll cover:\n",
    "1. Fetching historical data for tech stocks\n",
    "2. Calculating returns and risk metrics\n",
    "3. Finding the efficient frontier\n",
    "4. Identifying the optimal portfolio (maximum Sharpe ratio)\n",
    "5. Visualizing results"
   ]
  },
  {
   "cell_type": "code",
   "execution_count": null,
   "metadata": {},
   "outputs": [],
   "source": [
    "# Import required libraries\n",
    "import numpy as np\n",
    "import pandas as pd\n",
    "import yfinance as yf\n",
    "import matplotlib.pyplot as plt\n",
    "import seaborn as sns\n",
    "from datetime import datetime, timedelta\n",
    "from scipy.optimize import minimize\n",
    "import warnings\n",
    "warnings.filterwarnings('ignore')\n",
    "\n",
    "# Set plotting style\n",
    "plt.style.use('seaborn-v0_8-darkgrid')\n",
    "sns.set_palette('husl')"
   ]
  },
  {
   "cell_type": "markdown",
   "metadata": {},
   "source": [
    "## 1. Fetch Historical Data\n",
    "\n",
    "We'll analyze a portfolio of major tech stocks: Apple, Microsoft, Google, Amazon, and NVIDIA."
   ]
  },
  {
   "cell_type": "code",
   "execution_count": null,
   "metadata": {},
   "outputs": [],
   "source": [
    "# Define tech stocks portfolio\n",
    "tickers = ['AAPL', 'MSFT', 'GOOGL', 'AMZN', 'NVDA']\n",
    "\n",
    "# Set date range (2 years of data)\n",
    "end_date = datetime.now()\n",
    "start_date = end_date - timedelta(days=2*365)\n",
    "\n",
    "# Download data\n",
    "print(f\"Fetching data from {start_date.strftime('%Y-%m-%d')} to {end_date.strftime('%Y-%m-%d')}\")\n",
    "data = yf.download(tickers, start=start_date, end=end_date)['Adj Close']\n",
    "\n",
    "# Display first few rows\n",
    "print(f\"\\nData shape: {data.shape}\")\n",
    "data.head()"
   ]
  },
  {
   "cell_type": "markdown",
   "metadata": {},
   "source": [
    "## 2. Calculate Returns and Risk Metrics"
   ]
  },
  {
   "cell_type": "code",
   "execution_count": null,
   "metadata": {},
   "outputs": [],
   "source": [
    "# Calculate daily returns\n",
    "returns = data.pct_change().dropna()\n",
    "\n",
    "# Calculate annualized metrics\n",
    "annual_returns = returns.mean() * 252\n",
    "annual_std = returns.std() * np.sqrt(252)\n",
    "correlation_matrix = returns.corr()\n",
    "covariance_matrix = returns.cov() * 252\n",
    "\n",
    "# Display statistics\n",
    "stats_df = pd.DataFrame({\n",
    "    'Annual Return': annual_returns,\n",
    "    'Annual Volatility': annual_std,\n",
    "    'Sharpe Ratio': annual_returns / annual_std\n",
    "})\n",
    "\n",
    "print(\"Individual Stock Statistics:\")\n",
    "print(stats_df.round(4))"
   ]
  },
  {
   "cell_type": "markdown",
   "metadata": {},
   "source": [
    "## 3. Visualize Correlation Matrix"
   ]
  },
  {
   "cell_type": "code",
   "execution_count": null,
   "metadata": {},
   "outputs": [],
   "source": [
    "# Plot correlation heatmap\n",
    "plt.figure(figsize=(10, 8))\n",
    "sns.heatmap(correlation_matrix, annot=True, cmap='coolwarm', center=0,\n",
    "            square=True, linewidths=1, cbar_kws={\"shrink\": 0.8})\n",
    "plt.title('Correlation Matrix of Tech Stocks', fontsize=16)\n",
    "plt.tight_layout()\n",
    "plt.show()"
   ]
  },
  {
   "cell_type": "markdown",
   "metadata": {},
   "source": [
    "## 4. Portfolio Optimization Functions"
   ]
  },
  {
   "cell_type": "code",
   "execution_count": null,
   "metadata": {},
   "outputs": [],
   "source": [
    "def portfolio_metrics(weights, returns, cov_matrix):\n",
    "    \"\"\"\n",
    "    Calculate portfolio return, volatility, and Sharpe ratio\n",
    "    \"\"\"\n",
    "    portfolio_return = np.dot(weights, returns)\n",
    "    portfolio_volatility = np.sqrt(np.dot(weights.T, np.dot(cov_matrix, weights)))\n",
    "    sharpe_ratio = portfolio_return / portfolio_volatility\n",
    "    return portfolio_return, portfolio_volatility, sharpe_ratio\n",
    "\n",
    "def negative_sharpe(weights, returns, cov_matrix):\n",
    "    \"\"\"\n",
    "    Negative Sharpe ratio for minimization\n",
    "    \"\"\"\n",
    "    return -portfolio_metrics(weights, returns, cov_matrix)[2]\n",
    "\n",
    "def portfolio_volatility(weights, returns, cov_matrix):\n",
    "    \"\"\"\n",
    "    Portfolio volatility for minimization\n",
    "    \"\"\"\n",
    "    return portfolio_metrics(weights, returns, cov_matrix)[1]"
   ]
  },
  {
   "cell_type": "markdown",
   "metadata": {},
   "source": [
    "## 5. Generate Efficient Frontier"
   ]
  },
  {
   "cell_type": "code",
   "execution_count": null,
   "metadata": {},
   "outputs": [],
   "source": [
    "# Number of assets\n",
    "n_assets = len(tickers)\n",
    "\n",
    "# Constraints and bounds\n",
    "constraints = {'type': 'eq', 'fun': lambda x: np.sum(x) - 1}  # weights sum to 1\n",
    "bounds = tuple((0, 1) for _ in range(n_assets))  # no short selling\n",
    "\n",
    "# Generate efficient frontier\n",
    "frontier_returns = []\n",
    "frontier_volatility = []\n",
    "frontier_weights = []\n",
    "\n",
    "# Target returns for efficient frontier\n",
    "target_returns = np.linspace(annual_returns.min(), annual_returns.max(), 100)\n",
    "\n",
    "for target in target_returns:\n",
    "    # Add return constraint\n",
    "    cons = [constraints,\n",
    "            {'type': 'eq', 'fun': lambda x, target=target: portfolio_metrics(x, annual_returns, covariance_matrix)[0] - target}]\n",
    "    \n",
    "    # Minimize volatility for given return\n",
    "    result = minimize(portfolio_volatility, \n",
    "                     x0=np.array(n_assets * [1. / n_assets]),\n",
    "                     args=(annual_returns, covariance_matrix),\n",
    "                     method='SLSQP',\n",
    "                     bounds=bounds,\n",
    "                     constraints=cons)\n",
    "    \n",
    "    if result.success:\n",
    "        ret, vol, _ = portfolio_metrics(result.x, annual_returns, covariance_matrix)\n",
    "        frontier_returns.append(ret)\n",
    "        frontier_volatility.append(vol)\n",
    "        frontier_weights.append(result.x)"
   ]
  },
  {
   "cell_type": "markdown",
   "metadata": {},
   "source": [
    "## 6. Find Optimal Portfolios"
   ]
  },
  {
   "cell_type": "code",
   "execution_count": null,
   "metadata": {},
   "outputs": [],
   "source": [
    "# Maximum Sharpe Ratio Portfolio\n",
    "max_sharpe = minimize(negative_sharpe,\n",
    "                     x0=np.array(n_assets * [1. / n_assets]),\n",
    "                     args=(annual_returns, covariance_matrix),\n",
    "                     method='SLSQP',\n",
    "                     bounds=bounds,\n",
    "                     constraints=constraints)\n",
    "\n",
    "max_sharpe_weights = max_sharpe.x\n",
    "max_sharpe_return, max_sharpe_vol, max_sharpe_ratio = portfolio_metrics(max_sharpe_weights, annual_returns, covariance_matrix)\n",
    "\n",
    "# Minimum Volatility Portfolio\n",
    "min_vol = minimize(portfolio_volatility,\n",
    "                  x0=np.array(n_assets * [1. / n_assets]),\n",
    "                  args=(annual_returns, covariance_matrix),\n",
    "                  method='SLSQP',\n",
    "                  bounds=bounds,\n",
    "                  constraints=constraints)\n",
    "\n",
    "min_vol_weights = min_vol.x\n",
    "min_vol_return, min_vol_vol, min_vol_ratio = portfolio_metrics(min_vol_weights, annual_returns, covariance_matrix)\n",
    "\n",
    "# Display optimal portfolios\n",
    "print(\"Maximum Sharpe Ratio Portfolio:\")\n",
    "print(f\"Return: {max_sharpe_return:.2%}\")\n",
    "print(f\"Volatility: {max_sharpe_vol:.2%}\")\n",
    "print(f\"Sharpe Ratio: {max_sharpe_ratio:.4f}\")\n",
    "print(\"\\nWeights:\")\n",
    "for ticker, weight in zip(tickers, max_sharpe_weights):\n",
    "    if weight > 0.01:\n",
    "        print(f\"{ticker}: {weight:.2%}\")\n",
    "\n",
    "print(\"\\n\" + \"=\"*50)\n",
    "print(\"\\nMinimum Volatility Portfolio:\")\n",
    "print(f\"Return: {min_vol_return:.2%}\")\n",
    "print(f\"Volatility: {min_vol_vol:.2%}\")\n",
    "print(f\"Sharpe Ratio: {min_vol_ratio:.4f}\")\n",
    "print(\"\\nWeights:\")\n",
    "for ticker, weight in zip(tickers, min_vol_weights):\n",
    "    if weight > 0.01:\n",
    "        print(f\"{ticker}: {weight:.2%}\")"
   ]
  },
  {
   "cell_type": "markdown",
   "metadata": {},
   "source": [
    "## 7. Visualize Efficient Frontier"
   ]
  },
  {
   "cell_type": "code",
   "execution_count": null,
   "metadata": {},
   "outputs": [],
   "source": [
    "# Create efficient frontier plot\n",
    "plt.figure(figsize=(12, 8))\n",
    "\n",
    "# Plot efficient frontier\n",
    "plt.plot(frontier_volatility, frontier_returns, 'b-', linewidth=3, label='Efficient Frontier')\n",
    "\n",
    "# Plot individual stocks\n",
    "for i, ticker in enumerate(tickers):\n",
    "    plt.scatter(annual_std[ticker], annual_returns[ticker], s=200, label=ticker)\n",
    "\n",
    "# Plot optimal portfolios\n",
    "plt.scatter(max_sharpe_vol, max_sharpe_return, marker='*', color='red', s=500, \n",
    "           label=f'Max Sharpe ({max_sharpe_ratio:.2f})')\n",
    "plt.scatter(min_vol_vol, min_vol_return, marker='*', color='green', s=500,\n",
    "           label=f'Min Volatility')\n",
    "\n",
    "# Formatting\n",
    "plt.xlabel('Volatility (Standard Deviation)', fontsize=14)\n",
    "plt.ylabel('Expected Return', fontsize=14)\n",
    "plt.title('Efficient Frontier - Tech Stocks Portfolio', fontsize=16)\n",
    "plt.legend(loc='best', fontsize=12)\n",
    "plt.grid(True, alpha=0.3)\n",
    "\n",
    "# Format axes as percentages\n",
    "plt.gca().yaxis.set_major_formatter(plt.FuncFormatter(lambda y, _: '{:.0%}'.format(y)))\n",
    "plt.gca().xaxis.set_major_formatter(plt.FuncFormatter(lambda x, _: '{:.0%}'.format(x)))\n",
    "\n",
    "plt.tight_layout()\n",
    "plt.show()"
   ]
  },
  {
   "cell_type": "markdown",
   "metadata": {},
   "source": [
    "## 8. Portfolio Allocation Visualization"
   ]
  },
  {
   "cell_type": "code",
   "execution_count": null,
   "metadata": {},
   "outputs": [],
   "source": [
    "# Create pie charts for optimal portfolios\n",
    "fig, (ax1, ax2) = plt.subplots(1, 2, figsize=(15, 6))\n",
    "\n",
    "# Max Sharpe Portfolio\n",
    "weights_sharpe = [w for w in max_sharpe_weights if w > 0.01]\n",
    "labels_sharpe = [tickers[i] for i, w in enumerate(max_sharpe_weights) if w > 0.01]\n",
    "ax1.pie(weights_sharpe, labels=labels_sharpe, autopct='%1.1f%%', startangle=90)\n",
    "ax1.set_title(f'Maximum Sharpe Ratio Portfolio\\n(Sharpe: {max_sharpe_ratio:.2f})', fontsize=14)\n",
    "\n",
    "# Min Volatility Portfolio\n",
    "weights_vol = [w for w in min_vol_weights if w > 0.01]\n",
    "labels_vol = [tickers[i] for i, w in enumerate(min_vol_weights) if w > 0.01]\n",
    "ax2.pie(weights_vol, labels=labels_vol, autopct='%1.1f%%', startangle=90)\n",
    "ax2.set_title(f'Minimum Volatility Portfolio\\n(Vol: {min_vol_vol:.1%})', fontsize=14)\n",
    "\n",
    "plt.tight_layout()\n",
    "plt.show()"
   ]
  },
  {
   "cell_type": "markdown",
   "metadata": {},
   "source": [
    "## 9. Monte Carlo Simulation"
   ]
  },
  {
   "cell_type": "code",
   "execution_count": null,
   "metadata": {},
   "outputs": [],
   "source": [
    "# Run Monte Carlo simulation\n",
    "num_portfolios = 10000\n",
    "results = np.zeros((3, num_portfolios))\n",
    "\n",
    "np.random.seed(42)\n",
    "for i in range(num_portfolios):\n",
    "    # Generate random weights\n",
    "    weights = np.random.random(n_assets)\n",
    "    weights /= np.sum(weights)  # normalize to sum to 1\n",
    "    \n",
    "    # Calculate metrics\n",
    "    ret, vol, sharpe = portfolio_metrics(weights, annual_returns, covariance_matrix)\n",
    "    \n",
    "    results[0, i] = ret\n",
    "    results[1, i] = vol\n",
    "    results[2, i] = sharpe\n",
    "\n",
    "# Create scatter plot\n",
    "plt.figure(figsize=(12, 8))\n",
    "plt.scatter(results[1], results[0], c=results[2], cmap='viridis', alpha=0.5)\n",
    "plt.colorbar(label='Sharpe Ratio')\n",
    "\n",
    "# Plot efficient frontier\n",
    "plt.plot(frontier_volatility, frontier_returns, 'r-', linewidth=3, label='Efficient Frontier')\n",
    "\n",
    "# Plot optimal portfolios\n",
    "plt.scatter(max_sharpe_vol, max_sharpe_return, marker='*', color='red', s=500, \n",
    "           label='Max Sharpe', edgecolors='black', linewidth=2)\n",
    "plt.scatter(min_vol_vol, min_vol_return, marker='*', color='green', s=500,\n",
    "           label='Min Volatility', edgecolors='black', linewidth=2)\n",
    "\n",
    "plt.xlabel('Volatility (Standard Deviation)', fontsize=14)\n",
    "plt.ylabel('Expected Return', fontsize=14)\n",
    "plt.title('Monte Carlo Simulation - 10,000 Random Portfolios', fontsize=16)\n",
    "plt.legend(loc='best', fontsize=12)\n",
    "plt.grid(True, alpha=0.3)\n",
    "\n",
    "# Format axes as percentages\n",
    "plt.gca().yaxis.set_major_formatter(plt.FuncFormatter(lambda y, _: '{:.0%}'.format(y)))\n",
    "plt.gca().xaxis.set_major_formatter(plt.FuncFormatter(lambda x, _: '{:.0%}'.format(x)))\n",
    "\n",
    "plt.tight_layout()\n",
    "plt.show()"
   ]
  },
  {
   "cell_type": "markdown",
   "metadata": {},
   "source": [
    "## 10. Summary and Recommendations\n",
    "\n",
    "Based on our analysis:\n",
    "\n",
    "1. **Diversification Benefits**: The correlation matrix shows that while tech stocks are somewhat correlated, there are still diversification benefits\n",
    "\n",
    "2. **Optimal Portfolios**:\n",
    "   - **Maximum Sharpe Ratio**: Best risk-adjusted returns\n",
    "   - **Minimum Volatility**: Lowest risk portfolio\n",
    "\n",
    "3. **Key Insights**:\n",
    "   - The efficient frontier shows the trade-off between risk and return\n",
    "   - No single stock dominates the optimal portfolios\n",
    "   - Portfolio optimization can significantly improve risk-adjusted returns\n",
    "\n",
    "4. **Next Steps**:\n",
    "   - Consider adding constraints (e.g., maximum allocation per stock)\n",
    "   - Include transaction costs in the optimization\n",
    "   - Perform out-of-sample testing\n",
    "   - Add more asset classes for better diversification"
   ]
  }
 ],
 "metadata": {
  "kernelspec": {
   "display_name": "Python 3",
   "language": "python",
   "name": "python3"
  },
  "language_info": {
   "codemirror_mode": {
    "name": "ipython",
    "version": 3
   },
   "file_extension": ".py",
   "mimetype": "text/x-python",
   "name": "python",
   "nbconvert_exporter": "python",
   "pygments_lexer": "ipython3",
   "version": "3.9.0"
  }
 },
 "nbformat": 4,
 "nbformat_minor": 4
}